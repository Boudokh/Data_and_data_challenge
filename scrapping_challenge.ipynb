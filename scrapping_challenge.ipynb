{
 "metadata": {
  "language_info": {
   "codemirror_mode": {
    "name": "ipython",
    "version": 3
   },
   "file_extension": ".py",
   "mimetype": "text/x-python",
   "name": "python",
   "nbconvert_exporter": "python",
   "pygments_lexer": "ipython3",
   "version": "3.8.0-final"
  },
  "orig_nbformat": 2,
  "kernelspec": {
   "name": "python3",
   "display_name": "Python 3.8.0 64-bit",
   "metadata": {
    "interpreter": {
     "hash": "df0893f56f349688326838aaeea0de204df53a132722cbd565e54b24a8fec5f6"
    }
   }
  }
 },
 "nbformat": 4,
 "nbformat_minor": 2,
 "cells": [
  {
   "cell_type": "code",
   "execution_count": 16,
   "metadata": {},
   "outputs": [],
   "source": [
    "from bs4 import BeautifulSoup\n",
    "import requests\n",
    "import urllib.request\n",
    "from selenium import webdriver\n",
    "from selenium.webdriver.chrome.options import Options\n",
    "from selenium.webdriver.common.by import By\n",
    "from selenium.webdriver.common.keys import Keys\n",
    "from selenium.webdriver.support.ui import WebDriverWait\n",
    "from selenium.webdriver.support.expected_conditions import presence_of_element_located\n",
    "import time\n",
    "import pandas as pd\n",
    "import re"
   ]
  },
  {
   "cell_type": "code",
   "execution_count": 17,
   "metadata": {},
   "outputs": [],
   "source": [
    "sotheby_url = \"https://www.sothebys.com/en/buy/watches?creators=\"\n",
    "brands = [\"Audemars Piguet\", \"Cartier\", \"Jaeger LeCoultre\", \"Patek Philippe\", \"Vacheron Constantin\"]\n"
   ]
  },
  {
   "cell_type": "code",
   "execution_count": 26,
   "metadata": {},
   "outputs": [
    {
     "output_type": "stream",
     "name": "stdout",
     "text": [
      "done\n"
     ]
    }
   ],
   "source": [
    "\n",
    "chrome_options = Options()\n",
    "chrome_options.add_argument('--no-sandbox')\n",
    "chrome_options.add_argument('--headless')\n",
    "chrome_options.add_argument('--disable-dev-shm-usage')\n",
    "\n",
    "driver = webdriver.Chrome('/usr/bin/chromedriver', options=chrome_options)\n",
    "driver.get(\"https://www.bonhams.com/search/?q=cartier&main_index_key=lot#/e0_0=WCH&q0=cartier&MR0_display=search&m0=0\")\n",
    "#driver.get(\"https://www.bonhams.com/results/#/e1_0=WCH&MR1_length=96&MR1_main_index_key=sale&m1=1\")\n",
    "#driver.get(\"https://www.bonhams.com/auctions/22895/\")\n",
    "print(\"done\")\n",
    "driver.implicitly_wait(60)\n",
    "time.sleep(60)\n"
   ]
  },
  {
   "cell_type": "code",
   "execution_count": 27,
   "metadata": {},
   "outputs": [],
   "source": [
    "soup = BeautifulSoup(driver.page_source)\n"
   ]
  },
  {
   "cell_type": "code",
   "execution_count": 28,
   "metadata": {},
   "outputs": [
    {
     "output_type": "stream",
     "name": "stdout",
     "text": [
      "Found the URL: /legals/9945/\nFound the URL: /legals/26109/\nFound the URL: /register/?reg_rtn_path=/search/\nFound the URL: javascript:show_login_module()\nFound the URL: /\nFound the URL: #\nFound the URL: /auctions/\nFound the URL: /how_to_buy/\nFound the URL: /private_sales/\nFound the URL: /results/\nFound the URL: /departments/\nFound the URL: #\nFound the URL: /locations/region/AMERICAS/\nFound the URL: /locations/region/ASIA_PACIFIC/\nFound the URL: /locations/region/EUROPE/\nFound the URL: /locations/region/MIDDLE_EAST_AFRICA/\nFound the URL: /locations/region/UNITED_KINGDOM/\nFound the URL: #\nFound the URL: /valuation_events/\nFound the URL: /departments/HOU/\nFound the URL: /services/VAL-INS/\nFound the URL: /services/TRE/\nFound the URL: /services/VAL-PRO/\nFound the URL: /services/VAL-TAX/\nFound the URL: /services/VAL-COR/\nFound the URL: /services/VAL-MUS/\nFound the URL: //sell.bonhams.com\nFound the URL: /register/?reg_rtn_path=/search/\nFound the URL: javascript:show_login_module()\nFound the URL: /search/\nFound the URL: /search/\nFound the URL: /mybonhams/saved_searches/\nFound the URL: #!\nFound the URL: /register/?full_reg=1&reg_rtn_path=/search/\nFound the URL: \nFound the URL: #!\nFound the URL: /privacypolicy/\nFound the URL: /websiteuse/\nFound the URL: #!\nFound the URL: #!\nFound the URL: /\nFound the URL: https://www.instagram.com/bonhams1793/\nFound the URL: https://www.facebook.com/bonhams1793\nFound the URL: https://www.twitter.com/bonhams1793\nFound the URL: https://www.pinterest.com/Bonhams1793/\nFound the URL: https://www.youtube.com/channel/UCVgDPGHmH1EbTcKz0KsOD8g\nFound the URL: #\nFound the URL: /auctions/\nFound the URL: /results/\nFound the URL: /how_to_sell/\nFound the URL: /how_to_buy/\nFound the URL: /catalogues/\nFound the URL: /help/\nFound the URL: /about_us/\nFound the URL: /people/\nFound the URL: /legals/\nFound the URL: /press_contacts/\nFound the URL: /auctions/\nFound the URL: /results/\nFound the URL: /how_to_sell/\nFound the URL: /how_to_buy/\nFound the URL: /help/\nFound the URL: /about_us/\nFound the URL: /people/\nFound the URL: /catalogues/\nFound the URL: /legals/\nFound the URL: /press_contacts/\n"
     ]
    }
   ],
   "source": [
    "\n",
    "for a in soup.find_all('a', href=True):\n",
    "    print(\"Found the URL:\", a['href'])"
   ]
  },
  {
   "cell_type": "code",
   "execution_count": 29,
   "metadata": {},
   "outputs": [
    {
     "output_type": "execute_result",
     "data": {
      "text/plain": [
       "               </li>\\n\\n            </ul>\\n        </li>\\n\\n\\n        <li class=\"main-navigation__top-level-link\">\\n            <a href=\"/private_sales/\" id=\"m_private_sales\" class=\"menu_link \">Private Sales</a>\\n        </li>\\n\\n        <li class=\"main-navigation__top-level-link\">\\n             <a href=\"/results/\" id=\"m_results\" class=\"menu_link \">Results</a>\\n        </li>\\n\\n        <li class=\"main-navigation__top-level-link\">\\n            <a href=\"/departments/\" id=\"m_departments\" class=\"menu_link \">Departments</a>\\n        </li>\\n\\n        <li class=\"main-navigation__top-level-link main-navigation__multi-level\">\\n            <button type=\"button\" class=\"main-navigation__mobile-dropdown-btn js-mobile-dropdown-btn\"></button>\\n\\n            <a href=\"#\" class=\"menu_link\">Locations</a>\\n\\n            <ul>\\n                <li>\\n                    <a href=\"/locations/region/AMERICAS/\" class=\"menu_link\">Americas</a>\\n                </li>\\n\\n                <li>\\n                    <a href=\"/locations/region/ASIA_PACIFIC/\" class=\"menu_link\">Asia-Pacific</a>\\n                </li>\\n\\n                <li>\\n                    <a href=\"/locations/region/EUROPE/\" class=\"menu_link\">Europe</a>\\n                </li>\\n\\n                <li>\\n                    <a href=\"/locations/region/MIDDLE_EAST_AFRICA/\" class=\"menu_link\">Middle East &amp; Africa</a>\\n                </li>\\n\\n                <li>\\n                    <a href=\"/locations/region/UNITED_KINGDOM/\" class=\"menu_link\">United Kingdom</a>\\n                </li>\\n            </ul>\\n        </li>\\n\\n        <li class=\"main-navigation__top-level-link main-navigation__multi-level\">\\n            <button type=\"button\" class=\"main-navigation__mobile-dropdown-btn js-mobile-dropdown-btn\"></button>\\n\\n            <a href=\"#\" id=\"m_services\" class=\"menu_link \">Services</a>\\n\\n            <ul>\\n               <li>\\n                    <a href=\"/valuation_events/\" class=\"menu_link\">Valuation Days</a>\\n               </li>\\n\\n               <li>\\n                    <a href=\"/departments/HOU/\" class=\"menu_link\">Private Collections</a>\\n               </li>\\n\\n                <li>\\n                    <a href=\"/services/VAL-INS/\" class=\"menu_link\">Insurance valuations</a>\\n                </li>\\n\\n                <li>\\n                    <a href=\"/services/TRE/\" class=\"menu_link\">Trusts &amp; Estates (US)</a>\\n                </li>\\n\\n                <li>\\n                    <a href=\"/services/VAL-PRO/\" class=\"menu_link\">Probate and Inheritance tax (UK)</a>\\n                </li>\\n\\n                <li>\\n                    <a href=\"/services/VAL-TAX/\" class=\"menu_link\">Tax &amp; Heritage (UK)</a>\\n                </li>\\n\\n                <li>\\n                    <a href=\"/services/VAL-COR/\" class=\"menu_link\">Corporate Collections</a>\\n                </li>\\n\\n                <li>\\n                    <a href=\"/services/VAL-MUS/\" class=\"menu_link\">Museums &amp; Institutions</a>\\n                </li>\\n            </ul>\\n        </li>\\n\\n\\n\\n        <li class=\"main-navigation__top-level-link\">\\n            <a href=\"//sell.bonhams.com\" id=\"m_sell\" class=\"menu_link \" style=\"color: #8331a7;\">Sell</a>\\n        </li>\\n\\n        \\n\\n        \\n\\n        \\n            \\n                <li class=\"main-navigation__top-level-link mobile-link\">\\n                    <a href=\"/register/?reg_rtn_path=/search/\">Create Account</a>\\n                </li>\\n\\n                <li class=\"main-navigation__top-level-link mobile-link\">\\n                    <a id=\"log_in_link_2\" href=\"javascript:show_login_module()\">Log In</a>\\n                </li>\\n            \\n        \\n    </ul>\\n    \\n</nav>\\n\\n        \\n\\n\\n<div class=\"header-search\">\\n    <div class=\"header-search__wrapper\">\\n        <input class=\"header-search__input\" type=\"text\" id=\"searchquery\" placeholder=\"Search\" value=\"\" aria-label=\"Search\" title=\"Search\">\\n        <input id=\"content_field\" type=\"hidden\" size=\"26\" value=\"\">\\n\\n        <a class=\"header-search__icon\" href=\"/search/\" id=\"magnifier\" aria-label=\"Search\">\\n            <span>Search</span>\\n        </a>\\n    </div>\\n</div>\\n\\n    </div>\\n</header>\\n\\n\\n\\t<div id=\"body_container\" class=\"wrapper\">\\n\\t\\t\\n\\n\\t\\t<!-- Main page content -->\\n\\t\\t<div id=\"pagecontent\" class=\"search-results\">\\n\\t\\t\\t\\n<!-- base_columns (desktop) -->\\n    \\n    <h1 id=\"search-page-title\" class=\"page-title\">Search Results</h1>\\n\\n\\t<div id=\"columns\">\\n\\n\\t\\t\\n\\t\\t\\t\\n\\t\\t\\t<div class=\"section search-results__left-col  editorial-page-main \" id=\"two_columns_1\">\\n\\t\\t\\t\\t\\n\\t\\t\\t\\t\\t\\n\\t\\t\\t\\t\\t\\t \\n\\t<section id=\"ModuleRef0\" class=\"module_section advanced_search_control\">\\n\\t\\t\\n\\n\\n<div class=\"salesupcoming_auctions\" ng-controller=\"SearchCommunicatorCtrl\" ng-init=\"init(\\n\\t\\t\\t\\'\\',\\n\\t\\t\\t\\'\\',\\n\\t\\t\\t\\'search_results\\'\\n\\t\\t)\">\\n\\t<h3 class=\"search-results-sub-title\">Search</h3>\\n\\n\\t<div class=\"bn-generic-search expand_content\" module-instance-reference=\"0\" filters-url=\"/api/v1/search_json/?cats_only=1&amp;get_filters=1&amp;division_head=D\" my-activity=\"false\" show-selling-activity=\"\" search-by-description=\"E.g. Cars\" display-filters=\"content,top_level_department,department,country,division,myitems,date_range,range_display,sale_type\" all-future-past=\"all_future_past\" default-date-range=\"AL\" default-content=\"\" save-search-control=\"true\" close-control=\"false\" auto-load=\"false\" query-string=\"q=cartier\" currency-pref=\"GBP\" reset-to-no-results=\"true\" controller-id=\"search_results\" display-style=\"search\" is-collapsed=\"true\">\\n\\t</div>\\n</div>\\n\\n\\t</section><!-- #ModuleRef0 -->\\n\\n\\n\\t\\t\\t\\t\\t\\n\\t\\t\\t\\t\\n\\t\\t\\t\\t\\t\\n\\t\\t\\t\\t\\t\\t \\n\\t<section id=\"ModuleRef1\" class=\"module_section saved_searches_list\">\\n\\t\\t\\n<div rel=\"1\" class=\"saved-search\" data-reset-link=\".?module_instance_reference=1\">\\n    <h3 class=\"search-results-sub-title\">Saved Searches</h3>\\n\\n    <div ng-controller=\"SavedSearchCtrl\" ng-init=\"init({show_create_button: false, show_limit: 5 })\">\\n        <p ng-show=\"!user_known || saved_searches.length == 0\">You can save searches and we will alert you by email of upcoming items in our auctions that match the words in your search.</p>\\n\\n        <div class=\"buttoncontainer\" ng-show=\"saved_searches.length == 0 &amp;&amp; opts.show_create_button\">\\n            <a class=\"btn active\" href=\"/search/\">Create new search</a>\\n        </div>\\n\\n        <div class=\"compact_list\">\\n            <ul class=\"searches_links\">\\n                <li ng-repeat=\"saved_search in limited_saved_searches(limit)\"><a class=\"\" ng-href=\"[[ saved_search.url ]]\">[[ saved_search.title ]]</a></li>\\n            </ul>\\n\\n            <div ng-if=\"opts.show_create_button\" ng-show=\"saved_searches.length > SHOW_LIMIT\" class=\"seeall\">\\n                <a href=\"/mybonhams/saved_searches/\">See all my saved searches</a>\\n            </div>\\n\\n            <div ng-if=\"!opts.show_create_button &amp;&amp; saved_searches.length > SHOW_LIMIT\" class=\"seeall\">\\n                <p ng-click=\"toggle_show_all()\" ng-bind=\"show_all_text\"></p>\\n            </div>\\n        </div>\\n    </div>\\n</div>\\n\\n\\t</section><!-- #ModuleRef1 -->\\n\\n\\n\\t\\t\\t\\t\\t\\n\\t\\t\\t\\t\\n\\t\\t\\t\\t\\t\\n\\t\\t\\t\\t\\t\\t \\n\\t<section id=\"ModuleRef2\" class=\"module_section login_user\">\\n\\t\\t\\n\\n\\n<div id=\"login_overlay\" class=\"slider_caption_popup_overlay\"></div> \\n<div rel=\"2\" class=\"accountlogin_user account-login__wrapper hide \">\\n<div class=\"module_content\">\\n\\t<a class=\"close_this right\" href=\"#!\" title=\"Close this window\">×</a>   \\n\\t\\n\\t<div>\\n\\t\\t<h1 class=\"account-login__title\">My Bonhams</h1>\\n\\t</div>\\n\\n\\t\\n\\t<div class=\"account-login__new-wrapper\">\\n\\t\\t<h2 class=\"account-login__new\">New to Bonhams online?</h2>\\n\\n\\t\\t<a id=\"id_join_link\" class=\"account-login__join-button\" href=\"/register/?full_reg=1&amp;reg_rtn_path=/search/\">Join</a>\\n\\t</div>\\n\\n\\t\\n\\n\\t<div><h2 class=\"account-login__login-label\">Log in</h2></div><br>\\n\\t\\n\\t\\n\\t\\n\\n\\t<form>\\n\\t\\t\\n\\t\\t\\n\\t\\t\\n\\t\\t<input type=\"hidden\" name=\"from_login_form\" value=\"1\">\\n\\t\\t\\n\\t\\t\\n\\n\\t\\t<div class=\"account-login__field-wrapper\">\\n\\t\\t\\t<label class=\"account-login__label\" for=\"id_username\">\\n\\t\\t\\t\\tEmail address\\n\\t\\t\\t</label>\\n\\t\\t\\t<div class=\"account-login__input-container\">\\n\\t\\t\\t\\t<input id=\"id_username\" class=\"account-login__inputField\" type=\"text\" maxlength=\"255\" autocorrect=\"off\" autocapitalize=\"off\" spellcheck=\"false\" name=\"username\" tabindex=\"1\"><br>\\n\\t\\t\\t</div>\\n\\t\\t\\t\\n\\t\\t\\t\\n\\t\\t\\t<a class=\"account-login__forgotten-field\" id=\"forgotten_email\" href=\"\" tabindex=\"3\">\\n\\t\\t\\t\\tForgot your email?\\n\\t\\t\\t</a>\\t\\t\\n\\t\\t</div>\\n\\t\\t\\n\\t\\t<div class=\"account-login__field-wrapper\">\\n\\t\\t\\t<label class=\"account-login__label\" for=\"id_password\">\\n\\t\\t\\t\\tPassword\\n\\t\\t\\t</label>\\n\\t\\t\\t<div class=\"account-login__input-container\">\\n\\t\\t\\t\\t<input id=\"id_password\" class=\"account-login__inputField\" type=\"password\" name=\"password\" tabindex=\"2\"><br>\\n\\t\\t\\t</div>\\n\\t\\t\\t\\n\\t\\t\\t<a class=\"account-login__forgotten-field\" id=\"forgotten_password\" href=\"#!\" tabindex=\"4\">\\n\\t\\t\\t\\tForgot your password?\\n\\t\\t\\t</a>\\n\\t\\t</div>\\n\\n\\t\\t<div class=\"account-login__checkbox\">\\n\\t\\t\\t<label for=\"id_terms\" id=\"terms\" class=\"account-login__checkbox-content\">\\n\\t\\t\\t<input type=\"checkbox\" name=\"terms\" id=\"id_terms\">\\n\\t\\t\\t\\n\\t\\t\\t\\t<span class=\"checkmark\"></span>\\n\\t\\t\\t\\t<div class=\"account-login__checkbox-text\">I have read, understood and agree to Bonhams <a href=\"/privacypolicy/\">privacy policy</a> and <a href=\"/websiteuse/\">conditions</a> for website use.</div>\\n\\t\\t\\t\\n\\t\\t\\t</label>\\n\\n\\t\\t\\t\\n\\t\\t\\t\\t\\n\\t\\t\\t\\n\\t\\t</div>\\n\\n\\t\\t<input type=\"hidden\" name=\"next\" value=\"/search/\" id=\"id_next\">\\n\\n\\t\\t<input type=\"hidden\" name=\"csrfmiddlewaretoken\" value=\"hzBrk1e5wr8823QZFUjHAcxBLT3kWahir0gVrY1ORossT7d8CX4uL8JorTDDeYAn\">\\n\\n\\t\\t<input type=\"hidden\" name=\"redirect_params\" id=\"id_redirect_params\">\\n\\n\\t\\t<input type=\"hidden\" name=\"csrfmiddlewaretoken\" value=\"hzBrk1e5wr8823QZFUjHAcxBLT3kWahir0gVrY1ORossT7d8CX4uL8JorTDDeYAn\">\\n\\n\\t\\t<div align=\"center\" style=\"margin-top: 25px; margin-bottom: 5px;\">\\n\\t\\t\\t<a href=\"#!\" class=\"btn close_this_btn account-login__button\">Close</a>\\n\\t\\t\\t<a class=\"btn default inactive account-login__button\" href=\"#!\" id=\"signin_button\">Log in</a>\\n\\t\\t</div>\\n\\t\\t<!--  if not form.forgot_username and not form.forgot_email  -->\\n\\t\\t<input type=\"hidden\" name=\"forgot\" id=\"id_forgot\">      \\n\\t\\t<input type=\"hidden\" name=\"module_instance_reference\" value=\"2\" id=\"id_module_instance_reference\">\\n\\n\\t\\t\\n\\n\\t\\t\\n\\n\\n\\t\\n</form>\\n\\n<div class=\"clear\"></div>\\n</div>\\n</div>\\n\\n\\t</section><!-- #ModuleRef2 -->\\n\\n\\n\\t\\t\\t\\t\\t\\n\\t\\t\\t\\t\\n\\t\\t\\t</div><!-- .module_column -->\\n\\t\\t\\n\\t\\t\\t\\n\\t\\t\\t<div class=\"section search-results__right-col subsequent  editorial-page-sidebar   editorial-page-main \" id=\"two_columns_2\">\\n\\t\\t\\t\\t\\n\\t\\t\\t\\t\\t\\n\\t\\t\\t\\t\\t\\t \\n\\t<section id=\"ModuleRef3\" class=\"module_section advanced_search_results\">\\n\\t\\t\\n\\n\\n\\n\\n\\n<div rel=\"3\" id=\"items\" class=\"salesupcoming_auctions 2\" ng-controller=\"SearchCtrl\" ng-init=\"init({\\n\\tmodule_instance_reference:\\'3\\',\\n   \\tcontroller_id: \\'search_results\\',\\n    client_no: \\'None\\',\\n    online_only_normal_refresh: 30,\\n    online_only_minimum_refresh: 15,\\n    online_only_end_period: 5,\\n    online_only_server_now: \\'2021-03-16T12:55:12\\'})\">\\n\\n    <div class=\"Search module_content\">\\n        <div ng-hide=\"results_present\">\\n            <p class=\"search-results__help-text\">\\n                Need help finding something? Search what you’re looking for and we’ll see if we can help\\n            </p>\\n        </div>\\n\\n        <div ng-include=\"\" src=\"\\'/media/angular/app/partials/search/list.html?_v=43558\\'\"></div>\\n    </div>\\n</div>\\n\\n\\t</section><!-- #ModuleRef3 -->\\n\\n\\n\\t\\t\\t\\t\\t\\n\\t\\t\\t\\t\\n\\t\\t\\t</div><!-- .module_column -->\\n\\t\\t\\n\\t</div><!-- #columns -->\\n\\n\\t\\t</div>\\n\\t</div>\\n\\t\\n\\n\\n\\n\\n\\n\\n\\n\\n\\t<meta charset=\"utf-8\">\\n\\t<title>App</title>\\n    <script src=\"https://unpkg.com/react@16/umd/react.development.js\" crossorigin=\"\" type=\"4addce76f7f75ee12e80e8cb-text/javascript\"></script>\\n    <script src=\"https://unpkg.com/react-dom@16/umd/react-dom.development.js\" crossorigin=\"\" type=\"4addce76f7f75ee12e80e8cb-text/javascript\"></script>\\n\\n\\n\\n  \\n\\n  <div id=\"signup\"></div>\\n  \\n<script data-cfasync=\"false\">\\nconst loadWidget = (callback) => {\\n  var timestamp = new Date().getTime()\\n  var src = \"https://www.bonhams.com/assets/signup/js/bundle.min.js?ldc=\" + timestamp;\\n  var script = document.createElement(\"script\");\\n  script.src = src;\\n  script.id = \"signUpScript\";\\n\\n  var linkSrc = \"https://www.bonhams.com/assets/signup/css/bundle.min.css?ldc=\" + timestamp;\\n  var link = document.createElement(\"link\");\\n  link.href = linkSrc;\\n  link.rel = \"stylesheet\";\\n  link.type = \"text/css\";\\n  link.media = \"screen,print\";\\n  link.id = \"signUpScriptCss\";\\n\\n  document.body.appendChild(script);\\n  document.getElementsByTagName(\"head\")[0].appendChild(link);\\n\\n  script.onload = function () {\\n    if (callback) callback();\\n  };\\n  \\n  link.onload = function () {\\n    if (callback) callback();\\n  };\\n};\\n\\nloadWidget(() => {\\n  console.log(\"loaded\");\\n});\\n</script><script src=\"https://www.bonhams.com/assets/signup/js/bundle.min.js?ldc=1615899311469\" id=\"signUpScript\"></script>\\n\\n\\n<script src=\"https://ajax.cloudflare.com/cdn-cgi/scripts/7089c43e/cloudflare-static/rocket-loader.min.js\" data-cf-settings=\"4addce76f7f75ee12e80e8cb-|49\" defer=\"\"></script>\\n\\n\\n\\n\\t\\n\\n<footer class=\"footer\">\\n    \\n        <div class=\"footer__container\">\\n            <div class=\"footer__logo\">\\n                <a href=\"/\" title=\"Bonhams Auctions Home\">\\n                    <svg role=\"img\" aria-label=\"Bonhams Logo\"><use xlink:href=\"#logo-small\"></use></svg>\\n                </a>\\n            </div>\\n            <div class=\"footer__social\">\\n                <ul class=\"social-links\">\\n                    <li class=\"social-links__item\">\\n                        <a href=\"https://www.instagram.com/bonhams1793/\" target=\"_blank\" class=\"icon icon--medium icon--rounded icon--purple icon--instagram\" aria-label=\"Instagram\">\\n                            <svg role=\"img\" aria-label=\"Instagram\"><use xlink:href=\"#icon-instagram\"></use></svg>\\n                        </a>\\n                    </li>\\n                    <li class=\"social-links__item\">\\n                        <a href=\"https://www.facebook.com/bonhams1793\" target=\"_blank\" class=\"icon icon--medium icon--rounded icon--purple icon--facebook\" aria-label=\"Facebook\">\\n                            <svg role=\"img\" aria-label=\"Facebook\"><use xlink:href=\"#icon-facebook\"></use></svg>\\n                        </a>\\n                    </li>\\n                    <li class=\"social-links__item\">\\n                        <a href=\"https://www.twitter.com/bonhams1793\" target=\"_blank\" class=\"icon icon--medium icon--rounded icon--purple icon--twitter\" aria-label=\"Twitter\">\\n                            <svg role=\"img\" aria-label=\"Twitter\"><use xlink:href=\"#icon-twitter\"></use></svg>\\n                        </a>\\n                    </li>\\n                    <li class=\"social-links__item\">\\n                        <a href=\"https://www.pinterest.com/Bonhams1793/\" target=\"_blank\" class=\"icon icon--medium icon--rounded icon--purple icon--pinterest\" aria-label=\"Pinterest\">\\n                            <svg role=\"img\" aria-label=\"Pinterest\"><use xlink:href=\"#icon-pinterest\"></use></svg>\\n                        </a>\\n                    </li>\\n                    <li class=\"social-links__item\">\\n                        <a href=\"https://www.youtube.com/channel/UCVgDPGHmH1EbTcKz0KsOD8g\" target=\"_blank\" class=\"icon icon--medium icon--rounded icon--purple icon--youtube\" aria-label=\"Youtube\">\\n                            <svg role=\"img\" aria-label=\"Youtube\"><use xlink:href=\"#icon-youtube\"></use></svg>\\n                        </a>\\n                    </li>\\n                    <li class=\"social-links__item social-links__item--wechat\">\\n                        <a href=\"#\" class=\"icon icon--medium icon--rounded icon--purple icon--wechat\" aria-label=\"WeChat\">\\n                            <svg role=\"img\" aria-label=\"WeChat\"><use xlink:href=\"#icon-wechat\"></use></svg>\\n                        </a>\\n                        <span class=\"social-links__qr\">\\n                            <img src=\"/media/assets/img/qrcode.jpg\" alt=\"WeChat QR code\">\\n                            <span class=\"social-links__qr-close\"></span>\\n                        </span>\\n                    </li>\\n                </ul>\\n            </div>\\n            <div class=\"footer__links\">\\n                <ul class=\"footer__links-desktop\">\\n                    <li class=\"footer__links-item\">\\n                        <a href=\"/auctions/\">Auctions</a>\\n                    </li>\\n                    <li class=\"footer__links-item\">\\n                        <a href=\"/results/\">Results</a>\\n                    </li>\\n                    <li class=\"footer__links-item\">\\n                    \\n                    \\n                        <a href=\"/how_to_sell/\">Selling</a> &amp;\\n                        <a href=\"/how_to_buy/\">Buying</a>\\n                    \\n                    </li>\\n                    <li class=\"footer__links-item\">\\n                    \\n                    \\n                        <a href=\"/catalogues/\">Catalogues</a>\\n                    \\n                    </li>\\n                    <li class=\"footer__links-item\">\\n                        <a href=\"/help/\">Help</a>\\n                    </li>\\n                    <li class=\"footer__links-item\">\\n                        <a href=\"/about_us/\">About Us</a>\\n                    </li>\\n                    <li class=\"footer__links-item\">\\n                        <a href=\"/people/\">Contacts</a>\\n                    </li>\\n                    <li class=\"footer__links-item\">\\n                        <a href=\"/legals/\">Terms &amp; Conditions</a>\\n                    </li>\\n                    <li class=\"footer__links-item\">\\n                    \\n                    \\n                        <a href=\"/press_contacts/\">Press</a>\\n                    \\n                    </li>\\n                </ul>\\n\\n                <ul class=\"footer__links-mobile\">\\n                    <li class=\"footer__links-item\">\\n                        <a href=\"/auctions/\">Auctions</a>\\n                    </li>\\n                    <li class=\"footer__links-item\">\\n                        <a href=\"/results/\">Results</a>\\n                    </li>\\n                    <li class=\"footer__links-item\">\\n                    \\n                    \\n                        <a href=\"/how_to_sell/\">Selling</a> &amp;\\n                        <a href=\"/how_to_buy/\">Buying</a>\\n                    \\n                    </li>\\n                    <li class=\"footer__links-item\">\\n                        <a href=\"/help/\">Help</a>\\n                    </li>\\n                    <li class=\"footer__links-item\">\\n                        <a href=\"/about_us/\">About Us</a>\\n                    </li>\\n                    <li class=\"footer__links-item\">\\n                        <a href=\"/people/\">Contacts</a>\\n                    </li>\\n                    <li class=\"footer__links-item\">\\n                    \\n                    \\n                        <a href=\"/catalogues/\">Catalogues</a>\\n                    \\n                    </li>\\n                    <li class=\"footer__links-item\">\\n                        <a href=\"/legals/\">Terms &amp; Conditions</a>\\n                    </li>\\n                    <li class=\"footer__links-item\">\\n                    \\n                    \\n                        <a href=\"/press_contacts/\">Press</a>\\n                    \\n                    </li>\\n                </ul>\\n            </div>\\n            <div class=\"footer__copyright\">\\n                Copyright © Bonhams 2001-2021\\n            </div>\\n        </div>\\n    \\n</footer>\\n\\n\\n\\n</body></html>'"
      ]
     },
     "metadata": {},
     "execution_count": 29
    }
   ],
   "source": [
    "driver.page_source"
   ]
  },
  {
   "cell_type": "code",
   "execution_count": null,
   "metadata": {},
   "outputs": [],
   "source": []
  }
 ]
}